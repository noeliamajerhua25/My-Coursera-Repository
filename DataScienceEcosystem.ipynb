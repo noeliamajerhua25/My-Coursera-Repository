{
 "cells": [
  {
   "cell_type": "markdown",
   "id": "21ccfe59-2202-4fa0-9a71-47ea7812ee48",
   "metadata": {},
   "source": [
    "# Data Science Tools and Ecosystem"
   ]
  },
  {
   "cell_type": "markdown",
   "id": "c0066c4f-3ea6-43d9-aeea-7607433bde7d",
   "metadata": {},
   "source": [
    "In this notebook, Data Science Tools and Ecosystem are summarized."
   ]
  },
  {
   "cell_type": "markdown",
   "id": "e681738d-d512-4d4e-9caa-41603db8094f",
   "metadata": {},
   "source": [
    "**Objectives:**\n",
    "* List of popular languages for Data Science\n",
    "* Understand basic data manipulation techniques\n",
    "* Explore data visualization tools and methods\n",
    "* Apply statistical methods to real data sets\n",
    "* Manage Git language and code"
   ]
  },
  {
   "cell_type": "markdown",
   "id": "d6b5a01a-379c-4e3c-8246-254fc3f8507d",
   "metadata": {},
   "source": [
    "Some of the popular languages that Data Scientists use are:\n",
    "1. Python\n",
    "2. R\n",
    "3. Java"
   ]
  },
  {
   "cell_type": "markdown",
   "id": "6c95b7ea-d21f-4a66-bea2-185fa77156f3",
   "metadata": {},
   "source": [
    "Some of the commonly used libraries used by Data Scientists include:\n",
    "1. Pandas\n",
    "2. Numpy\n",
    "3. Scikit-learn"
   ]
  },
  {
   "cell_type": "markdown",
   "id": "a84dd876-30d9-4782-8b06-cd4999c91eb0",
   "metadata": {},
   "source": [
    "| Data Science Tools |\n",
    "| ------------------ |\n",
    "| Data Science Tools |\n",
    "| RStudio |\n",
    "| Visual Studio Code |"
   ]
  },
  {
   "cell_type": "markdown",
   "id": "1b399ddd-ed1d-4673-8322-b30a1ff04ad4",
   "metadata": {},
   "source": [
    "### Below are a few examples of evaluating arithmetic expressions in Python"
   ]
  },
  {
   "cell_type": "code",
   "execution_count": 4,
   "id": "ce3974e7-c9f4-4b3b-8c55-1aee532caa80",
   "metadata": {
    "tags": []
   },
   "outputs": [
    {
     "data": {
      "text/plain": [
       "17"
      ]
     },
     "execution_count": 4,
     "metadata": {},
     "output_type": "execute_result"
    }
   ],
   "source": [
    "# This a simple arithmetic expression to mutiply then add integers\n",
    "(3*4)+5"
   ]
  },
  {
   "cell_type": "code",
   "execution_count": 7,
   "id": "6bb15b83-881e-4d89-bfa3-a346747d5749",
   "metadata": {
    "tags": []
   },
   "outputs": [
    {
     "name": "stdout",
     "output_type": "stream",
     "text": [
      "Aproximadamente 200 minutos son 3.33 horas\n"
     ]
    }
   ],
   "source": [
    "# This will convert 200 minutes to hours by diving by 60\n",
    "horas = 200/60\n",
    "print(f\"Aproximadamente 200 minutos son {round(horas,2)} horas\")"
   ]
  },
  {
   "cell_type": "markdown",
   "id": "96733e5d-db0a-4e98-963d-e2bbb72ab462",
   "metadata": {},
   "source": [
    "## Author\n",
    "Noelia Fatima Majerhua Nuñez"
   ]
  },
  {
   "cell_type": "code",
   "execution_count": null,
   "id": "0faf1656-202f-4f8a-836b-68ad1409ccc4",
   "metadata": {},
   "outputs": [],
   "source": []
  }
 ],
 "metadata": {
  "kernelspec": {
   "display_name": "Python",
   "language": "python",
   "name": "conda-env-python-py"
  },
  "language_info": {
   "codemirror_mode": {
    "name": "ipython",
    "version": 3
   },
   "file_extension": ".py",
   "mimetype": "text/x-python",
   "name": "python",
   "nbconvert_exporter": "python",
   "pygments_lexer": "ipython3",
   "version": "3.7.12"
  }
 },
 "nbformat": 4,
 "nbformat_minor": 5
}
